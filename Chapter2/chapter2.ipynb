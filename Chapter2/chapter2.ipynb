{
 "cells": [
  {
   "cell_type": "markdown",
   "metadata": {},
   "source": [
    "## Python"
   ]
  },
  {
   "cell_type": "code",
   "execution_count": 1,
   "metadata": {},
   "outputs": [],
   "source": [
    "from source.python.insertion_sort import insertion_sort_inc, insertion_sort_dec\n",
    "import random"
   ]
  },
  {
   "cell_type": "code",
   "execution_count": 2,
   "metadata": {},
   "outputs": [],
   "source": [
    "def asses_inc(sorting_algorithm, arr: list[int]):\n",
    "    assert sorting_algorithm(arr) == sorted(arr)\n",
    "    \n",
    "def asses_dec(sorting_algorithm, arr: list[int]):\n",
    "    assert sorting_algorithm(arr) == sorted(arr, reverse=True)\n",
    "    "
   ]
  },
  {
   "cell_type": "code",
   "execution_count": 3,
   "metadata": {},
   "outputs": [],
   "source": [
    "size = 10**4\n",
    "arr = [random.randint(a=0, b=1000) for _ in range(size)]"
   ]
  },
  {
   "cell_type": "code",
   "execution_count": 4,
   "metadata": {},
   "outputs": [],
   "source": [
    "asses_inc(insertion_sort_inc, arr)"
   ]
  },
  {
   "cell_type": "code",
   "execution_count": 5,
   "metadata": {},
   "outputs": [],
   "source": [
    "asses_dec(insertion_sort_dec, arr)"
   ]
  },
  {
   "cell_type": "markdown",
   "metadata": {},
   "source": [
    "## C"
   ]
  },
  {
   "cell_type": "code",
   "execution_count": 6,
   "metadata": {},
   "outputs": [],
   "source": [
    "from ctypes import *\n",
    "\n",
    "path = \"/home/rbuntu/Grath/CLRS/Chapter2/source/CDLL/insertion_sort.so\"\n",
    "libc = CDLL(path)"
   ]
  },
  {
   "cell_type": "code",
   "execution_count": 7,
   "metadata": {},
   "outputs": [],
   "source": [
    "insertion_sort_c_incc = libc.insertion_sort_inc\n",
    "insertion_sort_c_incc.restype = None"
   ]
  },
  {
   "cell_type": "code",
   "execution_count": 8,
   "metadata": {},
   "outputs": [],
   "source": [
    "insertion_sort_c_decc = libc.insertion_sort_dec\n",
    "insertion_sort_c_decc.restype = None"
   ]
  },
  {
   "cell_type": "code",
   "execution_count": 9,
   "metadata": {},
   "outputs": [],
   "source": [
    "def insertion_sort_c_py(arr, v: int = 0):\n",
    "    \"\"\"\n",
    "    Insertion sort wrapper for python. See `Note`\n",
    "    \n",
    "    `Note`:\n",
    "    The C function does not allocate the memory for the return type, but python does, therefore\n",
    "    the C function does the operations in place on a local python copy of the data, this approach\n",
    "    is safer as the python's garbage collector is responsible for cleaning the allocated data passed to C function.\n",
    "    If we would like to allocate memory in C and return the pointer to allocated memory we would also have to deallocate it.\n",
    "    \"\"\"\n",
    "    arr_type = c_int * len(arr)\n",
    "    arr_c = arr_type(*arr)\n",
    "    if v == 0:\n",
    "        insertion_sort_c_incc(pointer(arr_c), len(arr))\n",
    "    else:\n",
    "        insertion_sort_c_decc(pointer(arr_c), len(arr))\n",
    "\n",
    "    return list(arr_c)"
   ]
  },
  {
   "cell_type": "code",
   "execution_count": 10,
   "metadata": {},
   "outputs": [],
   "source": [
    "from functools import partial"
   ]
  },
  {
   "cell_type": "code",
   "execution_count": 11,
   "metadata": {},
   "outputs": [],
   "source": [
    "## Creating partial functions in order to \n",
    "insertion_sort_c_dec = partial(insertion_sort_c_py, v=1)\n",
    "insertion_sort_c_inc = partial(insertion_sort_c_py, v=0)"
   ]
  },
  {
   "cell_type": "code",
   "execution_count": 12,
   "metadata": {},
   "outputs": [],
   "source": [
    "asses_inc(insertion_sort_c_inc, arr)"
   ]
  },
  {
   "cell_type": "code",
   "execution_count": 13,
   "metadata": {},
   "outputs": [],
   "source": [
    "asses_dec(insertion_sort_c_dec, arr)"
   ]
  },
  {
   "cell_type": "markdown",
   "metadata": {},
   "source": [
    "## C vs Python Comparison"
   ]
  },
  {
   "cell_type": "code",
   "execution_count": 69,
   "metadata": {},
   "outputs": [],
   "source": [
    "import pandas as pd\n",
    "import seaborn as sns\n",
    "import matplotlib.pyplot as plt"
   ]
  },
  {
   "cell_type": "code",
   "execution_count": 70,
   "metadata": {},
   "outputs": [],
   "source": [
    "sns.set_style('darkgrid')\n",
    "sns.set(rc={'figure.figsize': (10, 6)})"
   ]
  },
  {
   "cell_type": "code",
   "execution_count": 71,
   "metadata": {},
   "outputs": [],
   "source": [
    "# %%timeit\n",
    "# insertion_sort_c_inc(arr)"
   ]
  },
  {
   "cell_type": "code",
   "execution_count": 72,
   "metadata": {},
   "outputs": [],
   "source": [
    "# %%timeit\n",
    "# insertion_sort_inc(arr)"
   ]
  },
  {
   "cell_type": "code",
   "execution_count": 73,
   "metadata": {},
   "outputs": [],
   "source": [
    "functions = {'insertion_sort_c': insertion_sort_c_inc, 'insertion_sort_py': insertion_sort_inc}"
   ]
  },
  {
   "cell_type": "code",
   "execution_count": 74,
   "metadata": {},
   "outputs": [],
   "source": [
    "import time\n",
    "from typing import Callable\n",
    "def measure_times(functions: list[Callable[[list[int]], list[int]]], sizes: list[int], samples: int = 1):\n",
    "    assert samples > 0, \"Sample size must be and integer greater than zero\"\n",
    "\n",
    "    function_dictionary = dict([(function, []) for function in functions])\n",
    "\n",
    "    for size in sizes:\n",
    "        arrs = [[random.randint(0, 1000) for _ in range(size)] for _ in range(samples)]\n",
    "\n",
    "        for function in functions:\n",
    "            start = time.time()\n",
    "            for arr in arrs:\n",
    "                sorted_arr = functions[function](arr)\n",
    "            total_time = time.time() - start\n",
    "            function_dictionary[function].append(total_time / samples)\n",
    "    \n",
    "    return function_dictionary\n",
    "\n"
   ]
  },
  {
   "cell_type": "code",
   "execution_count": 42,
   "metadata": {},
   "outputs": [],
   "source": [
    "sizes = list(range(500, 10001, 500))"
   ]
  },
  {
   "cell_type": "code",
   "execution_count": 43,
   "metadata": {},
   "outputs": [],
   "source": [
    "results = measure_times(functions, sizes, samples=5)"
   ]
  },
  {
   "cell_type": "code",
   "execution_count": 45,
   "metadata": {},
   "outputs": [],
   "source": [
    "## The trend fo r\n",
    "df = pd.DataFrame(results, sizes).rename_axis(index='N')"
   ]
  },
  {
   "cell_type": "code",
   "execution_count": 46,
   "metadata": {},
   "outputs": [
    {
     "data": {
      "text/html": [
       "<div>\n",
       "<style scoped>\n",
       "    .dataframe tbody tr th:only-of-type {\n",
       "        vertical-align: middle;\n",
       "    }\n",
       "\n",
       "    .dataframe tbody tr th {\n",
       "        vertical-align: top;\n",
       "    }\n",
       "\n",
       "    .dataframe thead th {\n",
       "        text-align: right;\n",
       "    }\n",
       "</style>\n",
       "<table border=\"1\" class=\"dataframe\">\n",
       "  <thead>\n",
       "    <tr style=\"text-align: right;\">\n",
       "      <th></th>\n",
       "      <th>insertion_sort_c</th>\n",
       "      <th>insertion_sort_py</th>\n",
       "    </tr>\n",
       "    <tr>\n",
       "      <th>N</th>\n",
       "      <th></th>\n",
       "      <th></th>\n",
       "    </tr>\n",
       "  </thead>\n",
       "  <tbody>\n",
       "    <tr>\n",
       "      <th>500</th>\n",
       "      <td>0.000400</td>\n",
       "      <td>0.003290</td>\n",
       "    </tr>\n",
       "    <tr>\n",
       "      <th>1000</th>\n",
       "      <td>0.000375</td>\n",
       "      <td>0.013855</td>\n",
       "    </tr>\n",
       "    <tr>\n",
       "      <th>1500</th>\n",
       "      <td>0.000664</td>\n",
       "      <td>0.031449</td>\n",
       "    </tr>\n",
       "    <tr>\n",
       "      <th>2000</th>\n",
       "      <td>0.001014</td>\n",
       "      <td>0.056247</td>\n",
       "    </tr>\n",
       "    <tr>\n",
       "      <th>2500</th>\n",
       "      <td>0.001445</td>\n",
       "      <td>0.090886</td>\n",
       "    </tr>\n",
       "    <tr>\n",
       "      <th>3000</th>\n",
       "      <td>0.001922</td>\n",
       "      <td>0.130775</td>\n",
       "    </tr>\n",
       "    <tr>\n",
       "      <th>3500</th>\n",
       "      <td>0.002479</td>\n",
       "      <td>0.177171</td>\n",
       "    </tr>\n",
       "    <tr>\n",
       "      <th>4000</th>\n",
       "      <td>0.003137</td>\n",
       "      <td>0.232252</td>\n",
       "    </tr>\n",
       "    <tr>\n",
       "      <th>4500</th>\n",
       "      <td>0.003794</td>\n",
       "      <td>0.289606</td>\n",
       "    </tr>\n",
       "    <tr>\n",
       "      <th>5000</th>\n",
       "      <td>0.004562</td>\n",
       "      <td>0.366069</td>\n",
       "    </tr>\n",
       "    <tr>\n",
       "      <th>5500</th>\n",
       "      <td>0.005525</td>\n",
       "      <td>0.447933</td>\n",
       "    </tr>\n",
       "    <tr>\n",
       "      <th>6000</th>\n",
       "      <td>0.006470</td>\n",
       "      <td>0.532236</td>\n",
       "    </tr>\n",
       "    <tr>\n",
       "      <th>6500</th>\n",
       "      <td>0.007275</td>\n",
       "      <td>0.619374</td>\n",
       "    </tr>\n",
       "    <tr>\n",
       "      <th>7000</th>\n",
       "      <td>0.008229</td>\n",
       "      <td>0.750698</td>\n",
       "    </tr>\n",
       "    <tr>\n",
       "      <th>7500</th>\n",
       "      <td>0.009672</td>\n",
       "      <td>0.831291</td>\n",
       "    </tr>\n",
       "    <tr>\n",
       "      <th>8000</th>\n",
       "      <td>0.010953</td>\n",
       "      <td>0.930775</td>\n",
       "    </tr>\n",
       "    <tr>\n",
       "      <th>8500</th>\n",
       "      <td>0.011719</td>\n",
       "      <td>1.056020</td>\n",
       "    </tr>\n",
       "    <tr>\n",
       "      <th>9000</th>\n",
       "      <td>0.013786</td>\n",
       "      <td>1.205126</td>\n",
       "    </tr>\n",
       "    <tr>\n",
       "      <th>9500</th>\n",
       "      <td>0.014686</td>\n",
       "      <td>1.326067</td>\n",
       "    </tr>\n",
       "    <tr>\n",
       "      <th>10000</th>\n",
       "      <td>0.015870</td>\n",
       "      <td>1.463294</td>\n",
       "    </tr>\n",
       "  </tbody>\n",
       "</table>\n",
       "</div>"
      ],
      "text/plain": [
       "       insertion_sort_c  insertion_sort_py\n",
       "N                                         \n",
       "500            0.000400           0.003290\n",
       "1000           0.000375           0.013855\n",
       "1500           0.000664           0.031449\n",
       "2000           0.001014           0.056247\n",
       "2500           0.001445           0.090886\n",
       "3000           0.001922           0.130775\n",
       "3500           0.002479           0.177171\n",
       "4000           0.003137           0.232252\n",
       "4500           0.003794           0.289606\n",
       "5000           0.004562           0.366069\n",
       "5500           0.005525           0.447933\n",
       "6000           0.006470           0.532236\n",
       "6500           0.007275           0.619374\n",
       "7000           0.008229           0.750698\n",
       "7500           0.009672           0.831291\n",
       "8000           0.010953           0.930775\n",
       "8500           0.011719           1.056020\n",
       "9000           0.013786           1.205126\n",
       "9500           0.014686           1.326067\n",
       "10000          0.015870           1.463294"
      ]
     },
     "execution_count": 46,
     "metadata": {},
     "output_type": "execute_result"
    }
   ],
   "source": [
    "df"
   ]
  },
  {
   "cell_type": "code",
   "execution_count": 47,
   "metadata": {},
   "outputs": [],
   "source": [
    "df['C_relative_speed_advantage'] =  df.insertion_sort_py / df.insertion_sort_c"
   ]
  },
  {
   "cell_type": "code",
   "execution_count": 48,
   "metadata": {},
   "outputs": [
    {
     "data": {
      "text/html": [
       "<div>\n",
       "<style scoped>\n",
       "    .dataframe tbody tr th:only-of-type {\n",
       "        vertical-align: middle;\n",
       "    }\n",
       "\n",
       "    .dataframe tbody tr th {\n",
       "        vertical-align: top;\n",
       "    }\n",
       "\n",
       "    .dataframe thead th {\n",
       "        text-align: right;\n",
       "    }\n",
       "</style>\n",
       "<table border=\"1\" class=\"dataframe\">\n",
       "  <thead>\n",
       "    <tr style=\"text-align: right;\">\n",
       "      <th></th>\n",
       "      <th>insertion_sort_c</th>\n",
       "      <th>insertion_sort_py</th>\n",
       "      <th>C_relative_speed_advantage</th>\n",
       "    </tr>\n",
       "    <tr>\n",
       "      <th>N</th>\n",
       "      <th></th>\n",
       "      <th></th>\n",
       "      <th></th>\n",
       "    </tr>\n",
       "  </thead>\n",
       "  <tbody>\n",
       "    <tr>\n",
       "      <th>500</th>\n",
       "      <td>0.000400</td>\n",
       "      <td>0.003290</td>\n",
       "      <td>8.217697</td>\n",
       "    </tr>\n",
       "    <tr>\n",
       "      <th>1000</th>\n",
       "      <td>0.000375</td>\n",
       "      <td>0.013855</td>\n",
       "      <td>36.976584</td>\n",
       "    </tr>\n",
       "    <tr>\n",
       "      <th>1500</th>\n",
       "      <td>0.000664</td>\n",
       "      <td>0.031449</td>\n",
       "      <td>47.340009</td>\n",
       "    </tr>\n",
       "    <tr>\n",
       "      <th>2000</th>\n",
       "      <td>0.001014</td>\n",
       "      <td>0.056247</td>\n",
       "      <td>55.473382</td>\n",
       "    </tr>\n",
       "    <tr>\n",
       "      <th>2500</th>\n",
       "      <td>0.001445</td>\n",
       "      <td>0.090886</td>\n",
       "      <td>62.876097</td>\n",
       "    </tr>\n",
       "    <tr>\n",
       "      <th>3000</th>\n",
       "      <td>0.001922</td>\n",
       "      <td>0.130775</td>\n",
       "      <td>68.026143</td>\n",
       "    </tr>\n",
       "    <tr>\n",
       "      <th>3500</th>\n",
       "      <td>0.002479</td>\n",
       "      <td>0.177171</td>\n",
       "      <td>71.477569</td>\n",
       "    </tr>\n",
       "    <tr>\n",
       "      <th>4000</th>\n",
       "      <td>0.003137</td>\n",
       "      <td>0.232252</td>\n",
       "      <td>74.029152</td>\n",
       "    </tr>\n",
       "    <tr>\n",
       "      <th>4500</th>\n",
       "      <td>0.003794</td>\n",
       "      <td>0.289606</td>\n",
       "      <td>76.324046</td>\n",
       "    </tr>\n",
       "    <tr>\n",
       "      <th>5000</th>\n",
       "      <td>0.004562</td>\n",
       "      <td>0.366069</td>\n",
       "      <td>80.245743</td>\n",
       "    </tr>\n",
       "    <tr>\n",
       "      <th>5500</th>\n",
       "      <td>0.005525</td>\n",
       "      <td>0.447933</td>\n",
       "      <td>81.068746</td>\n",
       "    </tr>\n",
       "    <tr>\n",
       "      <th>6000</th>\n",
       "      <td>0.006470</td>\n",
       "      <td>0.532236</td>\n",
       "      <td>82.258956</td>\n",
       "    </tr>\n",
       "    <tr>\n",
       "      <th>6500</th>\n",
       "      <td>0.007275</td>\n",
       "      <td>0.619374</td>\n",
       "      <td>85.133311</td>\n",
       "    </tr>\n",
       "    <tr>\n",
       "      <th>7000</th>\n",
       "      <td>0.008229</td>\n",
       "      <td>0.750698</td>\n",
       "      <td>91.229376</td>\n",
       "    </tr>\n",
       "    <tr>\n",
       "      <th>7500</th>\n",
       "      <td>0.009672</td>\n",
       "      <td>0.831291</td>\n",
       "      <td>85.947180</td>\n",
       "    </tr>\n",
       "    <tr>\n",
       "      <th>8000</th>\n",
       "      <td>0.010953</td>\n",
       "      <td>0.930775</td>\n",
       "      <td>84.976479</td>\n",
       "    </tr>\n",
       "    <tr>\n",
       "      <th>8500</th>\n",
       "      <td>0.011719</td>\n",
       "      <td>1.056020</td>\n",
       "      <td>90.111146</td>\n",
       "    </tr>\n",
       "    <tr>\n",
       "      <th>9000</th>\n",
       "      <td>0.013786</td>\n",
       "      <td>1.205126</td>\n",
       "      <td>87.416191</td>\n",
       "    </tr>\n",
       "    <tr>\n",
       "      <th>9500</th>\n",
       "      <td>0.014686</td>\n",
       "      <td>1.326067</td>\n",
       "      <td>90.296880</td>\n",
       "    </tr>\n",
       "    <tr>\n",
       "      <th>10000</th>\n",
       "      <td>0.015870</td>\n",
       "      <td>1.463294</td>\n",
       "      <td>92.202255</td>\n",
       "    </tr>\n",
       "  </tbody>\n",
       "</table>\n",
       "</div>"
      ],
      "text/plain": [
       "       insertion_sort_c  insertion_sort_py  C_relative_speed_advantage\n",
       "N                                                                     \n",
       "500            0.000400           0.003290                    8.217697\n",
       "1000           0.000375           0.013855                   36.976584\n",
       "1500           0.000664           0.031449                   47.340009\n",
       "2000           0.001014           0.056247                   55.473382\n",
       "2500           0.001445           0.090886                   62.876097\n",
       "3000           0.001922           0.130775                   68.026143\n",
       "3500           0.002479           0.177171                   71.477569\n",
       "4000           0.003137           0.232252                   74.029152\n",
       "4500           0.003794           0.289606                   76.324046\n",
       "5000           0.004562           0.366069                   80.245743\n",
       "5500           0.005525           0.447933                   81.068746\n",
       "6000           0.006470           0.532236                   82.258956\n",
       "6500           0.007275           0.619374                   85.133311\n",
       "7000           0.008229           0.750698                   91.229376\n",
       "7500           0.009672           0.831291                   85.947180\n",
       "8000           0.010953           0.930775                   84.976479\n",
       "8500           0.011719           1.056020                   90.111146\n",
       "9000           0.013786           1.205126                   87.416191\n",
       "9500           0.014686           1.326067                   90.296880\n",
       "10000          0.015870           1.463294                   92.202255"
      ]
     },
     "execution_count": 48,
     "metadata": {},
     "output_type": "execute_result"
    }
   ],
   "source": [
    "df"
   ]
  },
  {
   "cell_type": "code",
   "execution_count": 75,
   "metadata": {},
   "outputs": [
    {
     "data": {
      "text/plain": [
       "[]"
      ]
     },
     "execution_count": 75,
     "metadata": {},
     "output_type": "execute_result"
    },
    {
     "data": {
      "image/png": "[encoded data removed]",
      "text/plain": [
       "<Figure size 1000x600 with 1 Axes>"
      ]
     },
     "metadata": {},
     "output_type": "display_data"
    }
   ],
   "source": [
    "sns.set_style('darkgrid')\n",
    "sns.set(rc={'figure.figsize': (10, 6)})\n",
    "ax = sns.lineplot(data=df.C_relative_speed_advantage)\n",
    "ax.set(ylabel='X faster than Python')\n",
    "plt.plot()"
   ]
  },
  {
   "cell_type": "code",
   "execution_count": 76,
   "metadata": {},
   "outputs": [
    {
     "data": {
      "text/plain": [
       "[]"
      ]
     },
     "execution_count": 76,
     "metadata": {},
     "output_type": "execute_result"
    },
    {
     "data": {
      "image/png": "[encoded data removed]",
      "text/plain": [
       "<Figure size 1000x600 with 1 Axes>"
      ]
     },
     "metadata": {},
     "output_type": "display_data"
    }
   ],
   "source": [
    "ax = sns.lineplot(data=df.iloc[:, :2])\n",
    "ax.set(ylabel='Seconds')\n",
    "plt.plot()"
   ]
  },
  {
   "cell_type": "code",
   "execution_count": 78,
   "metadata": {},
   "outputs": [
    {
     "data": {
      "text/plain": [
       "[]"
      ]
     },
     "execution_count": 78,
     "metadata": {},
     "output_type": "execute_result"
    },
    {
     "data": {
      "image/png": "[encoded data removed]",
      "text/plain": [
       "<Figure size 1000x600 with 1 Axes>"
      ]
     },
     "metadata": {},
     "output_type": "display_data"
    }
   ],
   "source": [
    "## Due to the vast difference in scales between two languages it is wiser to user a log scale to see the difference between two implementations\n",
    "sns.set_style('darkgrid')\n",
    "sns.set(rc={'figure.figsize': (10, 6)})\n",
    "ax = sns.lineplot(data=df.iloc[:, :2])\n",
    "ax.set(ylabel='Seconds')\n",
    "plt.yscale('log')\n",
    "plt.plot()"
   ]
  },
  {
   "cell_type": "code",
   "execution_count": 79,
   "metadata": {},
   "outputs": [],
   "source": [
    "import collections"
   ]
  },
  {
   "cell_type": "code",
   "execution_count": 84,
   "metadata": {},
   "outputs": [
    {
     "name": "stdout",
     "output_type": "stream",
     "text": [
      "defaultdict(<class 'list'>, {-100: [0], 4: [1, 4], 3: [2, 3], 2: [5]})\n",
      "[-1, 0, 6] 6 [inf, inf, inf, inf, inf, -100]\n",
      "[-1, 1, 4, 6] 3 [inf, inf, 4, inf, inf, -100]\n",
      "[-1, 2, 3, 6] 3 [inf, inf, 3, inf, inf, -100]\n",
      "[-1, 5, 6] 6 [inf, inf, 3, inf, inf, -100]\n"
     ]
    }
   ],
   "source": [
    "arr=[-100,4,3,3,4,2]\n",
    "\n",
    "idx, n=collections.defaultdict(list),len(arr)\n",
    "\n",
    "for i,j in enumerate(arr):\n",
    "    idx[j]+=[i]\n",
    "print(idx)\n",
    "    \n",
    "res=[float('inf')]*n\n",
    "    \n",
    "for num in idx:\n",
    "    x=[-1]+idx[num]+[n]\n",
    "    y=max(j-i for i,j in zip(x[:-1],x[1:]))\n",
    "    res[y-1]=min(res[y-1],num)\n",
    "    print(x, y, res)\n",
    "        \n",
    "for i in range(1,n):\n",
    "   res[i]=min(res[i],res[i-1])     \n",
    "   "
   ]
  },
  {
   "cell_type": "code",
   "execution_count": 85,
   "metadata": {},
   "outputs": [
    {
     "data": {
      "text/plain": [
       "[inf, inf, 3, 3, 3, -100]"
      ]
     },
     "execution_count": 85,
     "metadata": {},
     "output_type": "execute_result"
    }
   ],
   "source": [
    "res"
   ]
  },
  {
   "cell_type": "markdown",
   "metadata": {},
   "source": [
    "## 2.1"
   ]
  },
  {
   "cell_type": "code",
   "execution_count": 1,
   "metadata": {},
   "outputs": [],
   "source": [
    "from source.python.add_binary_integers import abi\n",
    "from source.python.linear_search import linear_search\n",
    "from ctypes import *"
   ]
  },
  {
   "cell_type": "code",
   "execution_count": 2,
   "metadata": {},
   "outputs": [],
   "source": [
    "libc = CDLL('/home/rbuntu/Grath/CLRS/Chapter2/source/CDLL/algs.so')"
   ]
  },
  {
   "cell_type": "code",
   "execution_count": 3,
   "metadata": {},
   "outputs": [],
   "source": [
    "abi_cf = libc.abi\n",
    "abi_cf.restype = None\n",
    "\n",
    "linear_search_cf = libc.linear_search\n",
    "linear_search_cf.restype = c_int"
   ]
  },
  {
   "cell_type": "code",
   "execution_count": 8,
   "metadata": {},
   "outputs": [],
   "source": [
    "## Decorator for Linear Search written in C\n",
    "def ls_c_decorator(func):\n",
    "    \"\"\"\n",
    "    This decorator is created in order to spare the hustle of allocating and deallocating memory in C, which could potentially cause memory leaks.\n",
    "    Allocating everything in python and passing pointers to C program make it possible to take advantage of python's garbage collector.\n",
    "    \"\"\"\n",
    "    \n",
    "    def ls_c_runner(arr: list[int], target: int):\n",
    "        arr_type = c_int * len(arr)\n",
    "        arr_c = arr_type(*arr)\n",
    "        target_c = c_int(target)\n",
    "        n = c_int(len(arr))\n",
    "\n",
    "        return func(pointer(arr_c), n, target_c)\n",
    "\n",
    "    return ls_c_runner\n",
    "\n",
    "## Decorator for Add Binary Integers written in C\n",
    "def abi_c_decorator(func):\n",
    "    \"\"\"\n",
    "    \"\"\"\n",
    "\n",
    "    def abi_c_runner(a: list[int], b: list[int]) -> list[int]:\n",
    "        assert len(a) == len(b), 'Different size arrays...'\n",
    "\n",
    "        arr_type_ab = c_int * len(a)\n",
    "        arr_type_c = c_int * (len(a) + 1)\n",
    "        arr_a = arr_type_ab(*a)\n",
    "        arr_b = arr_type_ab(*b)\n",
    "        arr_c = arr_type_c(*[0 for _ in range(len(a)+1)])\n",
    "        n = c_int(len(a))\n",
    "\n",
    "        func(pointer(arr_a), pointer(arr_b), pointer(arr_c), n)\n",
    "\n",
    "        return list(arr_c)\n",
    "    \n",
    "    return abi_c_runner"
   ]
  },
  {
   "cell_type": "code",
   "execution_count": 5,
   "metadata": {},
   "outputs": [],
   "source": [
    "linear_search_c = ls_c_decorator(linear_search_cf)"
   ]
  },
  {
   "cell_type": "code",
   "execution_count": 7,
   "metadata": {},
   "outputs": [
    {
     "data": {
      "text/plain": [
       "-1"
      ]
     },
     "execution_count": 7,
     "metadata": {},
     "output_type": "execute_result"
    }
   ],
   "source": [
    "linear_search_c([1,2,3,4,5,6], 10)"
   ]
  },
  {
   "cell_type": "code",
   "execution_count": 9,
   "metadata": {},
   "outputs": [],
   "source": [
    "abi_c = abi_c_decorator(abi_cf)"
   ]
  },
  {
   "cell_type": "code",
   "execution_count": 12,
   "metadata": {},
   "outputs": [
    {
     "data": {
      "text/plain": [
       "[0, 1, 0, 1]"
      ]
     },
     "execution_count": 12,
     "metadata": {},
     "output_type": "execute_result"
    }
   ],
   "source": [
    "abi_c([1,0,1], [1,0,1])"
   ]
  },
  {
   "cell_type": "code",
   "execution_count": null,
   "metadata": {},
   "outputs": [],
   "source": [
    "# TODO: Create tests for those two algorithms and compare speeds"
   ]
  },
  {
   "cell_type": "code",
   "execution_count": 1,
   "metadata": {},
   "outputs": [],
   "source": [
    "from source.python.selection_sort import selection_sort\n",
    "from ctypes import *"
   ]
  },
  {
   "cell_type": "code",
   "execution_count": 2,
   "metadata": {},
   "outputs": [
    {
     "data": {
      "text/plain": [
       "[1, 2, 3, 5, 6]"
      ]
     },
     "execution_count": 2,
     "metadata": {},
     "output_type": "execute_result"
    }
   ],
   "source": [
    "selection_sort([5,3,6,2,1])"
   ]
  },
  {
   "cell_type": "code",
   "execution_count": 3,
   "metadata": {},
   "outputs": [],
   "source": [
    "libc = CDLL('/home/rbuntu/Grath/CLRS/Chapter2/source/CDLL/sorting_algs.so')\n",
    "\n",
    "selection_sort_cf = libc.selection_sort\n",
    "selection_sort_cf.restype = None"
   ]
  },
  {
   "cell_type": "code",
   "execution_count": 4,
   "metadata": {},
   "outputs": [],
   "source": [
    "## decorator for selection sort written in C\n",
    "def selection_sort_c_decorator(func):\n",
    "\n",
    "    def selection_sort_c_runner(arr: list[int]) -> list[int]:\n",
    "        arr_type = c_int * len(arr)\n",
    "        arr_c = arr_type(*arr)\n",
    "        n = c_int(len(arr))\n",
    "        func(pointer(arr_c), n)\n",
    "        return list(arr_c)\n",
    "    \n",
    "    return selection_sort_c_runner"
   ]
  },
  {
   "cell_type": "code",
   "execution_count": 5,
   "metadata": {},
   "outputs": [],
   "source": [
    "selection_sort_c = selection_sort_c_decorator(selection_sort_cf)"
   ]
  },
  {
   "cell_type": "code",
   "execution_count": 7,
   "metadata": {},
   "outputs": [],
   "source": [
    "arr = [5,34,1,2,3,45,5,34234,1]"
   ]
  },
  {
   "cell_type": "code",
   "execution_count": 8,
   "metadata": {},
   "outputs": [
    {
     "data": {
      "text/plain": [
       "[1, 1, 2, 3, 5, 5, 34, 45, 34234]"
      ]
     },
     "execution_count": 8,
     "metadata": {},
     "output_type": "execute_result"
    }
   ],
   "source": [
    "selection_sort_c(arr)"
   ]
  },
  {
   "cell_type": "code",
   "execution_count": null,
   "metadata": {},
   "outputs": [],
   "source": [
    "## TODO: After coding merge-sort create a test "
   ]
  }
 ],
 "metadata": {
  "kernelspec": {
   "display_name": "FluentPython",
   "language": "python",
   "name": "python3"
  },
  "language_info": {
   "codemirror_mode": {
    "name": "ipython",
    "version": 3
   },
   "file_extension": ".py",
   "mimetype": "text/x-python",
   "name": "python",
   "nbconvert_exporter": "python",
   "pygments_lexer": "ipython3",
   "version": "3.11.4"
  }
 },
 "nbformat": 4,
 "nbformat_minor": 2
}
